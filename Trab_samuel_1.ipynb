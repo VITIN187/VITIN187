{
  "nbformat": 4,
  "nbformat_minor": 0,
  "metadata": {
    "colab": {
      "provenance": [],
      "authorship_tag": "ABX9TyPdZcWe8s+lFYz0SmRXK2k/",
      "include_colab_link": true
    },
    "kernelspec": {
      "name": "python3",
      "display_name": "Python 3"
    },
    "language_info": {
      "name": "python"
    }
  },
  "cells": [
    {
      "cell_type": "markdown",
      "metadata": {
        "id": "view-in-github",
        "colab_type": "text"
      },
      "source": [
        "<a href=\"https://colab.research.google.com/github/VITIN187/VITIN187/blob/main/Trab_samuel_1.ipynb\" target=\"_parent\"><img src=\"https://colab.research.google.com/assets/colab-badge.svg\" alt=\"Open In Colab\"/></a>"
      ]
    },
    {
      "cell_type": "markdown",
      "source": [
        "import hashlib\n",
        "\n",
        "def calcular_hash(arquivo, algoritmo):\n",
        "    with open(arquivo, 'rb') as f:\n",
        "        hash_obj = hashlib.new(algoritmo)\n",
        "        hash_obj.update(f.read())\n",
        "        return hash_obj.hexdigest()\n",
        "\n",
        "\n",
        "arquivos = ['a.txt', 'b.txt']\n",
        "\n",
        "algoritmos = ['md5', 'sha1', 'sha256']\n",
        "\n",
        "\n",
        "for arquivo in arquivos:\n",
        "    print(f\"Hashes para o arquivo {arquivo}:\")\n",
        "    for algoritmo in algoritmos:\n",
        "        hash_valor = calcular_hash(arquivo, algoritmo)\n",
        "        print(f\"{algoritmo.upper()}: {hash_valor}\")\n",
        "    print()"
      ],
      "metadata": {
        "id": "XDuXpJUnOMyu"
      }
    },
    {
      "cell_type": "code",
      "execution_count": null,
      "metadata": {
        "colab": {
          "base_uri": "https://localhost:8080/"
        },
        "id": "43nJSekZOCij",
        "outputId": "14a08556-00f2-4274-e2a1-f3d7ff10e1ad"
      },
      "outputs": [
        {
          "output_type": "stream",
          "name": "stdout",
          "text": [
            "Shift 0: Rovvy, wli gsv riirgv xzm vckvob rm gsv ozabiv.\n",
            "Shift 1: Qnuux, vkh fru qhhqfu wyl ubjuna ql fru nyzahu.\n",
            "Shift 2: Pmttw, ujg eqt pggpet vxk taitmz pk eqt mxyzgt.\n",
            "Shift 3: Olssv, tif dps offods uwj szhsly oj dps lwxyfs.\n",
            "Shift 4: Nkrru, she cor neencr tvi rygrkx ni cor kvwxer.\n",
            "Shift 5: Mjqqt, rgd bnq mddmbq suh qxfqjw mh bnq juvwdq.\n",
            "Shift 6: Lipps, qfc amp lcclap rtg pwepiv lg amp ituvcp.\n",
            "Shift 7: Khoor, peb zlo kbbkzo qsf ovdohu kf zlo hstubo.\n",
            "Shift 8: Jgnnq, oda ykn jaajyn pre nucngt je ykn grstan.\n",
            "Shift 9: Ifmmp, ncz xjm izzixm oqd mtbmfs id xjm fqrszm.\n",
            "Shift 10: Hello, mby wil hyyhwl npc lsaler hc wil epqryl.\n",
            "Shift 11: Gdkkn, lax vhk gxxgvk mob krzkdq gb vhk dopqxk.\n",
            "Shift 12: Fcjjm, kzw ugj fwwfuj lna jqyjcp fa ugj cnopwj.\n",
            "Shift 13: Ebiil, jyv tfi evveti kmz ipxibo ez tfi bmnovi.\n",
            "Shift 14: Dahhk, ixu seh duudsh jly howhan dy seh almnuh.\n",
            "Shift 15: Czggj, hwt rdg cttcrg ikx gnvgzm cx rdg zklmtg.\n",
            "Shift 16: Byffi, gvs qcf bssbqf hjw fmufyl bw qcf yjklsf.\n",
            "Shift 17: Axeeh, fur pbe arrape giv eltexk av pbe xijkre.\n",
            "Shift 18: Zwddg, etq oad zqqzod fhu dksdwj zu oad whijqd.\n",
            "Shift 19: Yvccf, dsp nzc yppync egt cjrcvi yt nzc vghipc.\n",
            "Shift 20: Xubbe, cro myb xooxmb dfs biqbuh xs myb ufghob.\n",
            "Shift 21: Wtaad, bqn lxa wnnwla cer ahpatg wr lxa tefgna.\n",
            "Shift 22: Vszzc, apm kwz vmmvkz bdq zgozsf vq kwz sdefmz.\n",
            "Shift 23: Uryyb, zol jvy ullujy acp yfnyre up jvy rcdely.\n",
            "Shift 24: Tqxxa, ynk iux tkktix zbo xemxqd to iux qbcdkx.\n",
            "Shift 25: Spwwz, xmj htw sjjshw yan wdlwpc sn htw pabcjw.\n"
          ]
        }
      ],
      "source": [
        " def decrypt_caesar_cipher(text):\n",
        "    decrypted_texts = []\n",
        "    for shift in range(26):\n",
        "        decrypted_text = \"\"\n",
        "        for char in text:\n",
        "            if char.isalpha():\n",
        "                shifted = ord(char) - shift\n",
        "                if char.islower():\n",
        "                    if shifted < ord('a'):\n",
        "                        shifted += 26\n",
        "                elif char.isupper():\n",
        "                    if shifted < ord('A'):\n",
        "                        shifted += 26\n",
        "                decrypted_text += chr(shifted)\n",
        "            else:\n",
        "                decrypted_text += char\n",
        "        decrypted_texts.append(decrypted_text)\n",
        "    return decrypted_texts\n",
        "\n",
        "\n",
        "ciphertext = \"Rovvy, wli gsv riirgv xzm vckvob rm gsv ozabiv.\"\n",
        "decrypted_texts = decrypt_caesar_cipher(ciphertext)\n",
        "for i, decrypted_text in enumerate(decrypted_texts):\n",
        "    print(f\"Shift {i}: {decrypted_text}\")"
      ]
    },
    {
      "cell_type": "code",
      "source": [
        "def criar_arquivos(nome_arquivo, texto):\n",
        "    with open(nome_arquivo, 'w') as arquivo:\n",
        "        arquivo.write(texto)\n",
        "\n",
        "conteudo_textual = \"Este é um texto para os arquivos a.txt e b.txt.\"\n",
        "\n",
        "criar_arquivos('a.txt', conteudo_textual)\n",
        "criar_arquivos('b.txt', conteudo_textual)\n",
        "\n",
        "print(\"Arquivos a.txt e b.txt criados com sucesso.\")"
      ],
      "metadata": {
        "colab": {
          "base_uri": "https://localhost:8080/"
        },
        "id": "ybjj2nJWQeNj",
        "outputId": "ad302148-578d-4844-f1f4-c6458e97d608"
      },
      "execution_count": null,
      "outputs": [
        {
          "output_type": "stream",
          "name": "stdout",
          "text": [
            "Arquivos a.txt e b.txt criados com sucesso.\n"
          ]
        }
      ]
    },
    {
      "cell_type": "code",
      "source": [
        "\n",
        "import hashlib\n",
        "\n",
        "def open_txt(file):\n",
        "    with open(file) as f:\n",
        "        return \"\".join(f.read())\n",
        "\n",
        "file_1 = 'a.txt'\n",
        "file_2 = 'b.txt'\n",
        "text_1 = open_txt(file_1)\n",
        "text_2 = open_txt(file_2)\n",
        "\n",
        "def compare(text_1, text_2):\n",
        "    hash_1 = hashlib.md5()\n",
        "    hash_1.update(text_1.encode('utf-8'))\n",
        "    hash_1 = hash_1.hexdigest()\n",
        "\n",
        "    hash_2 = hashlib.md5()\n",
        "    hash_2.update(text_2.encode('utf-8'))\n",
        "    hash_2 = hash_2.hexdigest()\n",
        "\n",
        "    return hash_1, hash_2\n",
        "\n",
        "hashes = compare(text_1, text_2)\n",
        "print(hashes[0])\n",
        "print(hashes[1])"
      ],
      "metadata": {
        "colab": {
          "base_uri": "https://localhost:8080/"
        },
        "id": "u3i3C4ZQRCx8",
        "outputId": "6287c73e-db2f-4d1a-f9b1-1277012f0482"
      },
      "execution_count": null,
      "outputs": [
        {
          "output_type": "stream",
          "name": "stdout",
          "text": [
            "575a260a04020e30c9f62892253dd5fe\n",
            "575a260a04020e30c9f62892253dd5fe\n"
          ]
        }
      ]
    },
    {
      "cell_type": "code",
      "source": [
        "\n",
        "def open_txt(file):\n",
        "    with open(file) as f:\n",
        "        return f.read()\n",
        "\n",
        "file_1 = 'a.txt'\n",
        "file_2 = 'b.txt'\n",
        "text_1 = open_txt(file_1)\n",
        "text_2 = open_txt(file_2)\n",
        "\n",
        "if text_1 == text_2:\n",
        "    print(\"Os arquivos são idênticos.\")\n",
        "else:\n",
        "    print(\"Os arquivos são diferentes.\")"
      ],
      "metadata": {
        "colab": {
          "base_uri": "https://localhost:8080/"
        },
        "id": "lR-mGyJyRGNn",
        "outputId": "0aceee81-cf44-401f-bca2-fb3f7abd1ce4"
      },
      "execution_count": null,
      "outputs": [
        {
          "output_type": "stream",
          "name": "stdout",
          "text": [
            "Os arquivos são idênticos.\n"
          ]
        }
      ]
    },
    {
      "cell_type": "code",
      "source": [],
      "metadata": {
        "id": "Uhy7h5FLS5RB"
      },
      "execution_count": null,
      "outputs": []
    },
    {
      "cell_type": "markdown",
      "source": [
        "No universo da segurança online, o algoritmo RSA se destaca como uma ferramenta, chave para proteger nossas comunicações digitais. Criado por Rivest, Shamir e Adleman, ele usa um par de chaves, uma pública e outra privada, para garantir a segurança, além disso com o advento de suas operações matemáticas complexas envolvendo números primos e módulos, o RSA é reconhecido por sua robustez e eficácia contra ataques cibernéticos. Essa tecnologia é vital para as transações bancárias online, e-mails seguros e outras formas de interação digital, tornando-se uma peça fundamental na proteção da nossa privacidade online."
      ],
      "metadata": {
        "id": "uzlNvjL-S5y_"
      }
    },
    {
      "cell_type": "code",
      "source": [
        "\n",
        "import string\n",
        "from itertools import product\n",
        "from time import time\n",
        "\n",
        "def product_loop(password, generator):\n",
        "    for p in generator:\n",
        "        if ''.join(p) == password:\n",
        "            print('\\nSenha:', ''.join(p))\n",
        "            return ''.join(p)\n",
        "    return False\n",
        "\n",
        "def bruteforce(password, max_nchar=8):\n",
        "    print('1) Comparando com as senhas mais comuns e nomes iniciais/ do meio')\n",
        "    with open('sunshine.txt', 'r') as f:\n",
        "        common_pass = f.read().splitlines()\n",
        "    with open('abie.txt', 'r') as f:\n",
        "        common_names = f.read().splitlines()\n",
        "    cp = [c for c in common_pass if c == password]\n",
        "    cn = [c for c in common_names if c == password]\n",
        "    cnl = [c.lower() for c in common_names if c.lower() == password]\n",
        "    if len(cp) == 1:\n",
        "        print('\\nSenha:', cp)\n",
        "        return cp\n",
        "    if len(cn) == 1:\n",
        "        print('\\nSenha:', cn)\n",
        "        return cn\n",
        "    if len(cnl) == 1:\n",
        "        print('\\nSenha:', cnl)\n",
        "        return cnl\n",
        "\n",
        "    print('2) Senhas com números')\n",
        "    for l in range(1, 9):\n",
        "        generator = product(string.digits, repeat=int(l))\n",
        "        print(\"\\t..%d digito\" % l)\n",
        "        p = product_loop(password, generator)\n",
        "        if p is not False:\n",
        "            return p\n",
        "\n",
        "    print('3) Digitos ASCII')\n",
        "    for l in range(1, max_nchar + 1):\n",
        "        print(\"\\t..%d caracter\" % l)\n",
        "        generator = product(string.digits + string.ascii_lowercase, repeat=int(l))\n",
        "        p = product_loop(password, generator)\n",
        "        if p is not False:\n",
        "            return p\n",
        "\n",
        "    print('4) Digitos + ASCII maiúsculo / minúsculo + pontuação')\n",
        "    all_char = string.digits + string.ascii_letters + string.punctuation\n",
        "    for l in range(1, max_nchar + 1):\n",
        "        print(\"\\t..%d char\" % l)\n",
        "        generator = product(all_char, repeat=int(l))\n",
        "        p = product_loop(password, generator)\n",
        "        if p is not False:\n",
        "            return p"
      ],
      "metadata": {
        "id": "YyzZtnf_WcGK"
      },
      "execution_count": null,
      "outputs": []
    },
    {
      "cell_type": "code",
      "source": [
        "import string\n",
        "from itertools import product\n",
        "from time import time\n",
        "\n",
        "def product_loop(password, generator):\n",
        "    for p in generator:\n",
        "        if ''.join(p) == password:\n",
        "            print('\\nSenha:', ''.join(p))\n",
        "            return ''.join(p)\n",
        "    return False\n",
        "\n",
        "def bruteforce(password, max_nchar=8):\n",
        "    print('1) Comparando com as senhas mais comuns e nomes iniciais/ do meio')\n",
        "    with open('sunshine.txt', 'r') as f:\n",
        "        common_pass = f.read().splitlines()\n",
        "    with open('abie.txt', 'r') as f:\n",
        "        common_names = f.read().splitlines()\n",
        "    cp = [c for c in common_pass if c == password]\n",
        "    cn = [c for c in common_names if c == password]\n",
        "    cnl = [c.lower() for c in common_names if c.lower() == password]\n",
        "    if len(cp) == 1:\n",
        "        print('\\nSenha:', cp)\n",
        "        return cp\n",
        "    if len(cn) == 1:\n",
        "        print('\\nSenha:', cn)\n",
        "        return cn\n",
        "    if len(cnl) == 1:\n",
        "        print('\\nSenha:', cnl)\n",
        "        return cnl\n",
        "\n",
        "    print('2) Senhas com números')\n",
        "    for l in range(1, 9):\n",
        "        generator = product(string.printable, repeat=int(l))\n",
        "        print(\"\\t..%d caracteres\" % l)\n",
        "        p = product_loop(password, generator)\n",
        "        if p is not False:\n",
        "            return p\n",
        "\n",
        "start = time()\n",
        "bruteforce('bolinho') # Tente com '123456' or '751345' or 'test2018'\n",
        "end = time()\n",
        "print('Total time: %.2f seconds' % (end - start))"
      ],
      "metadata": {
        "colab": {
          "base_uri": "https://localhost:8080/",
          "height": 769
        },
        "id": "OtwUIwBCW2F7",
        "outputId": "09c3fdd4-9812-4e4b-d378-8c33119ed3e2"
      },
      "execution_count": null,
      "outputs": [
        {
          "output_type": "stream",
          "name": "stdout",
          "text": [
            "1) Comparando com as senhas mais comuns e nomes iniciais/ do meio\n"
          ]
        },
        {
          "output_type": "error",
          "ename": "FileNotFoundError",
          "evalue": "[Errno 2] No such file or directory: 'sunshine.txt'",
          "traceback": [
            "\u001b[0;31m---------------------------------------------------------------------------\u001b[0m",
            "\u001b[0;31mFileNotFoundError\u001b[0m                         Traceback (most recent call last)",
            "\u001b[0;32m<ipython-input-32-2e2e301678c3>\u001b[0m in \u001b[0;36m<cell line: 40>\u001b[0;34m()\u001b[0m\n\u001b[1;32m     38\u001b[0m \u001b[0;34m\u001b[0m\u001b[0m\n\u001b[1;32m     39\u001b[0m \u001b[0mstart\u001b[0m \u001b[0;34m=\u001b[0m \u001b[0mtime\u001b[0m\u001b[0;34m(\u001b[0m\u001b[0;34m)\u001b[0m\u001b[0;34m\u001b[0m\u001b[0;34m\u001b[0m\u001b[0m\n\u001b[0;32m---> 40\u001b[0;31m \u001b[0mbruteforce\u001b[0m\u001b[0;34m(\u001b[0m\u001b[0;34m'bolinho'\u001b[0m\u001b[0;34m)\u001b[0m \u001b[0;31m# Tente com '123456' or '751345' or 'test2018'\u001b[0m\u001b[0;34m\u001b[0m\u001b[0;34m\u001b[0m\u001b[0m\n\u001b[0m\u001b[1;32m     41\u001b[0m \u001b[0mend\u001b[0m \u001b[0;34m=\u001b[0m \u001b[0mtime\u001b[0m\u001b[0;34m(\u001b[0m\u001b[0;34m)\u001b[0m\u001b[0;34m\u001b[0m\u001b[0;34m\u001b[0m\u001b[0m\n\u001b[1;32m     42\u001b[0m \u001b[0mprint\u001b[0m\u001b[0;34m(\u001b[0m\u001b[0;34m'Total time: %.2f seconds'\u001b[0m \u001b[0;34m%\u001b[0m \u001b[0;34m(\u001b[0m\u001b[0mend\u001b[0m \u001b[0;34m-\u001b[0m \u001b[0mstart\u001b[0m\u001b[0;34m)\u001b[0m\u001b[0;34m)\u001b[0m\u001b[0;34m\u001b[0m\u001b[0;34m\u001b[0m\u001b[0m\n",
            "\u001b[0;32m<ipython-input-32-2e2e301678c3>\u001b[0m in \u001b[0;36mbruteforce\u001b[0;34m(password, max_nchar)\u001b[0m\n\u001b[1;32m     12\u001b[0m \u001b[0;32mdef\u001b[0m \u001b[0mbruteforce\u001b[0m\u001b[0;34m(\u001b[0m\u001b[0mpassword\u001b[0m\u001b[0;34m,\u001b[0m \u001b[0mmax_nchar\u001b[0m\u001b[0;34m=\u001b[0m\u001b[0;36m8\u001b[0m\u001b[0;34m)\u001b[0m\u001b[0;34m:\u001b[0m\u001b[0;34m\u001b[0m\u001b[0;34m\u001b[0m\u001b[0m\n\u001b[1;32m     13\u001b[0m     \u001b[0mprint\u001b[0m\u001b[0;34m(\u001b[0m\u001b[0;34m'1) Comparando com as senhas mais comuns e nomes iniciais/ do meio'\u001b[0m\u001b[0;34m)\u001b[0m\u001b[0;34m\u001b[0m\u001b[0;34m\u001b[0m\u001b[0m\n\u001b[0;32m---> 14\u001b[0;31m     \u001b[0;32mwith\u001b[0m \u001b[0mopen\u001b[0m\u001b[0;34m(\u001b[0m\u001b[0;34m'sunshine.txt'\u001b[0m\u001b[0;34m,\u001b[0m \u001b[0;34m'r'\u001b[0m\u001b[0;34m)\u001b[0m \u001b[0;32mas\u001b[0m \u001b[0mf\u001b[0m\u001b[0;34m:\u001b[0m\u001b[0;34m\u001b[0m\u001b[0;34m\u001b[0m\u001b[0m\n\u001b[0m\u001b[1;32m     15\u001b[0m         \u001b[0mcommon_pass\u001b[0m \u001b[0;34m=\u001b[0m \u001b[0mf\u001b[0m\u001b[0;34m.\u001b[0m\u001b[0mread\u001b[0m\u001b[0;34m(\u001b[0m\u001b[0;34m)\u001b[0m\u001b[0;34m.\u001b[0m\u001b[0msplitlines\u001b[0m\u001b[0;34m(\u001b[0m\u001b[0;34m)\u001b[0m\u001b[0;34m\u001b[0m\u001b[0;34m\u001b[0m\u001b[0m\n\u001b[1;32m     16\u001b[0m     \u001b[0;32mwith\u001b[0m \u001b[0mopen\u001b[0m\u001b[0;34m(\u001b[0m\u001b[0;34m'abie.txt'\u001b[0m\u001b[0;34m,\u001b[0m \u001b[0;34m'r'\u001b[0m\u001b[0;34m)\u001b[0m \u001b[0;32mas\u001b[0m \u001b[0mf\u001b[0m\u001b[0;34m:\u001b[0m\u001b[0;34m\u001b[0m\u001b[0;34m\u001b[0m\u001b[0m\n",
            "\u001b[0;31mFileNotFoundError\u001b[0m: [Errno 2] No such file or directory: 'sunshine.txt'"
          ]
        }
      ]
    },
    {
      "cell_type": "code",
      "source": [
        "Não, a senha fornecida ('bolinho@2023') não foi descoberta, pois o código não conseguiu encontrar uma correspondência durante o ataque de força bruta. Portanto, não há um tempo específico de descoberta."
      ],
      "metadata": {
        "id": "1nizEwutXxoR"
      },
      "execution_count": null,
      "outputs": []
    },
    {
      "cell_type": "markdown",
      "source": [
        "Não, a senha fornecida ('bolinho@2023') não foi descoberta, pois o código não conseguiu encontrar uma correspondência durante o ataque de força bruta. Neste caso , não há um tempo específico de descoberta.\n",
        "Foi usado codificação de dois fatores, token de sessão e criptografia de ponta a ponta👍🏻"
      ],
      "metadata": {
        "id": "r1rmD3zbYCoE"
      }
    }
  ]
}